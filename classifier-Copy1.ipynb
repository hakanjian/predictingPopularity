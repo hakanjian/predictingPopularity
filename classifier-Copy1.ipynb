{
 "cells": [
  {
   "cell_type": "code",
   "execution_count": 139,
   "id": "c030ea52-b9ec-416d-8883-f1e6ee3c800e",
   "metadata": {},
   "outputs": [],
   "source": [
    "import pandas as pd\n",
    "import numpy as np\n",
    "import tensorflow as tf\n",
    "import matplotlib.pyplot as plt\n",
    "from sklearn.model_selection import train_test_split\n",
    "import nltk\n",
    "import statistics\n",
    "from sklearn.metrics import confusion_matrix"
   ]
  },
  {
   "cell_type": "code",
   "execution_count": 140,
   "id": "557d1b95-f29d-4093-a4e7-2f8b0a8ddcc5",
   "metadata": {
    "tags": []
   },
   "outputs": [
    {
     "data": {
      "text/html": [
       "<div>\n",
       "<style scoped>\n",
       "    .dataframe tbody tr th:only-of-type {\n",
       "        vertical-align: middle;\n",
       "    }\n",
       "\n",
       "    .dataframe tbody tr th {\n",
       "        vertical-align: top;\n",
       "    }\n",
       "\n",
       "    .dataframe thead th {\n",
       "        text-align: right;\n",
       "    }\n",
       "</style>\n",
       "<table border=\"1\" class=\"dataframe\">\n",
       "  <thead>\n",
       "    <tr style=\"text-align: right;\">\n",
       "      <th></th>\n",
       "      <th>created_utc</th>\n",
       "      <th>score</th>\n",
       "      <th>domain</th>\n",
       "      <th>id</th>\n",
       "      <th>title</th>\n",
       "      <th>ups</th>\n",
       "      <th>downs</th>\n",
       "      <th>num_comments</th>\n",
       "      <th>permalink</th>\n",
       "      <th>selftext</th>\n",
       "      <th>...</th>\n",
       "      <th>over_18</th>\n",
       "      <th>thumbnail</th>\n",
       "      <th>subreddit_id</th>\n",
       "      <th>edited</th>\n",
       "      <th>link_flair_css_class</th>\n",
       "      <th>author_flair_css_class</th>\n",
       "      <th>is_self</th>\n",
       "      <th>name</th>\n",
       "      <th>url</th>\n",
       "      <th>distinguished</th>\n",
       "    </tr>\n",
       "  </thead>\n",
       "  <tbody>\n",
       "    <tr>\n",
       "      <th>0</th>\n",
       "      <td>1.372964e+09</td>\n",
       "      <td>2785</td>\n",
       "      <td>self.Showerthoughts</td>\n",
       "      <td>1hncvt</td>\n",
       "      <td>If Hillary Clinton wins in 2016, it will be th...</td>\n",
       "      <td>4750</td>\n",
       "      <td>1965</td>\n",
       "      <td>265</td>\n",
       "      <td>http://www.reddit.com/r/Showerthoughts/comment...</td>\n",
       "      <td>NaN</td>\n",
       "      <td>...</td>\n",
       "      <td>False</td>\n",
       "      <td>NaN</td>\n",
       "      <td>t5_2szyo</td>\n",
       "      <td>False</td>\n",
       "      <td>NaN</td>\n",
       "      <td>NaN</td>\n",
       "      <td>True</td>\n",
       "      <td>t3_1hncvt</td>\n",
       "      <td>http://www.reddit.com/r/Showerthoughts/comment...</td>\n",
       "      <td>NaN</td>\n",
       "    </tr>\n",
       "    <tr>\n",
       "      <th>1</th>\n",
       "      <td>1.372606e+09</td>\n",
       "      <td>2488</td>\n",
       "      <td>self.Showerthoughts</td>\n",
       "      <td>1hd8in</td>\n",
       "      <td>I am just a penis. The rest of me is just ther...</td>\n",
       "      <td>4011</td>\n",
       "      <td>1523</td>\n",
       "      <td>162</td>\n",
       "      <td>http://www.reddit.com/r/Showerthoughts/comment...</td>\n",
       "      <td>NaN</td>\n",
       "      <td>...</td>\n",
       "      <td>False</td>\n",
       "      <td>NaN</td>\n",
       "      <td>t5_2szyo</td>\n",
       "      <td>False</td>\n",
       "      <td>NaN</td>\n",
       "      <td>NaN</td>\n",
       "      <td>True</td>\n",
       "      <td>t3_1hd8in</td>\n",
       "      <td>http://www.reddit.com/r/Showerthoughts/comment...</td>\n",
       "      <td>NaN</td>\n",
       "    </tr>\n",
       "    <tr>\n",
       "      <th>2</th>\n",
       "      <td>1.361920e+09</td>\n",
       "      <td>2387</td>\n",
       "      <td>self.Showerthoughts</td>\n",
       "      <td>19aft0</td>\n",
       "      <td>A TV channel where all the shows are set in th...</td>\n",
       "      <td>2558</td>\n",
       "      <td>171</td>\n",
       "      <td>77</td>\n",
       "      <td>http://www.reddit.com/r/Showerthoughts/comment...</td>\n",
       "      <td>You could have crime drama's, sitcoms, science...</td>\n",
       "      <td>...</td>\n",
       "      <td>False</td>\n",
       "      <td>NaN</td>\n",
       "      <td>t5_2szyo</td>\n",
       "      <td>False</td>\n",
       "      <td>NaN</td>\n",
       "      <td>NaN</td>\n",
       "      <td>True</td>\n",
       "      <td>t3_19aft0</td>\n",
       "      <td>http://www.reddit.com/r/Showerthoughts/comment...</td>\n",
       "      <td>NaN</td>\n",
       "    </tr>\n",
       "    <tr>\n",
       "      <th>3</th>\n",
       "      <td>1.370793e+09</td>\n",
       "      <td>2038</td>\n",
       "      <td>self.Showerthoughts</td>\n",
       "      <td>1fzgzv</td>\n",
       "      <td>If the oldest person on earth is 116 years old...</td>\n",
       "      <td>2559</td>\n",
       "      <td>521</td>\n",
       "      <td>71</td>\n",
       "      <td>http://www.reddit.com/r/Showerthoughts/comment...</td>\n",
       "      <td>NaN</td>\n",
       "      <td>...</td>\n",
       "      <td>False</td>\n",
       "      <td>NaN</td>\n",
       "      <td>t5_2szyo</td>\n",
       "      <td>False</td>\n",
       "      <td>NaN</td>\n",
       "      <td>NaN</td>\n",
       "      <td>True</td>\n",
       "      <td>t3_1fzgzv</td>\n",
       "      <td>http://www.reddit.com/r/Showerthoughts/comment...</td>\n",
       "      <td>NaN</td>\n",
       "    </tr>\n",
       "    <tr>\n",
       "      <th>4</th>\n",
       "      <td>1.371846e+09</td>\n",
       "      <td>2007</td>\n",
       "      <td>self.Showerthoughts</td>\n",
       "      <td>1gte67</td>\n",
       "      <td>If Kanye and Kim's child's name is North West,...</td>\n",
       "      <td>2687</td>\n",
       "      <td>680</td>\n",
       "      <td>76</td>\n",
       "      <td>http://www.reddit.com/r/Showerthoughts/comment...</td>\n",
       "      <td>NaN</td>\n",
       "      <td>...</td>\n",
       "      <td>False</td>\n",
       "      <td>NaN</td>\n",
       "      <td>t5_2szyo</td>\n",
       "      <td>False</td>\n",
       "      <td>NaN</td>\n",
       "      <td>NaN</td>\n",
       "      <td>True</td>\n",
       "      <td>t3_1gte67</td>\n",
       "      <td>http://www.reddit.com/r/Showerthoughts/comment...</td>\n",
       "      <td>NaN</td>\n",
       "    </tr>\n",
       "  </tbody>\n",
       "</table>\n",
       "<p>5 rows × 21 columns</p>\n",
       "</div>"
      ],
      "text/plain": [
       "    created_utc  score               domain      id  \\\n",
       "0  1.372964e+09   2785  self.Showerthoughts  1hncvt   \n",
       "1  1.372606e+09   2488  self.Showerthoughts  1hd8in   \n",
       "2  1.361920e+09   2387  self.Showerthoughts  19aft0   \n",
       "3  1.370793e+09   2038  self.Showerthoughts  1fzgzv   \n",
       "4  1.371846e+09   2007  self.Showerthoughts  1gte67   \n",
       "\n",
       "                                               title   ups  downs  \\\n",
       "0  If Hillary Clinton wins in 2016, it will be th...  4750   1965   \n",
       "1  I am just a penis. The rest of me is just ther...  4011   1523   \n",
       "2  A TV channel where all the shows are set in th...  2558    171   \n",
       "3  If the oldest person on earth is 116 years old...  2559    521   \n",
       "4  If Kanye and Kim's child's name is North West,...  2687    680   \n",
       "\n",
       "   num_comments                                          permalink  \\\n",
       "0           265  http://www.reddit.com/r/Showerthoughts/comment...   \n",
       "1           162  http://www.reddit.com/r/Showerthoughts/comment...   \n",
       "2            77  http://www.reddit.com/r/Showerthoughts/comment...   \n",
       "3            71  http://www.reddit.com/r/Showerthoughts/comment...   \n",
       "4            76  http://www.reddit.com/r/Showerthoughts/comment...   \n",
       "\n",
       "                                            selftext  ... over_18  thumbnail  \\\n",
       "0                                                NaN  ...   False        NaN   \n",
       "1                                                NaN  ...   False        NaN   \n",
       "2  You could have crime drama's, sitcoms, science...  ...   False        NaN   \n",
       "3                                                NaN  ...   False        NaN   \n",
       "4                                                NaN  ...   False        NaN   \n",
       "\n",
       "   subreddit_id edited link_flair_css_class  author_flair_css_class  is_self  \\\n",
       "0      t5_2szyo  False                  NaN                     NaN     True   \n",
       "1      t5_2szyo  False                  NaN                     NaN     True   \n",
       "2      t5_2szyo  False                  NaN                     NaN     True   \n",
       "3      t5_2szyo  False                  NaN                     NaN     True   \n",
       "4      t5_2szyo  False                  NaN                     NaN     True   \n",
       "\n",
       "        name                                                url distinguished  \n",
       "0  t3_1hncvt  http://www.reddit.com/r/Showerthoughts/comment...           NaN  \n",
       "1  t3_1hd8in  http://www.reddit.com/r/Showerthoughts/comment...           NaN  \n",
       "2  t3_19aft0  http://www.reddit.com/r/Showerthoughts/comment...           NaN  \n",
       "3  t3_1fzgzv  http://www.reddit.com/r/Showerthoughts/comment...           NaN  \n",
       "4  t3_1gte67  http://www.reddit.com/r/Showerthoughts/comment...           NaN  \n",
       "\n",
       "[5 rows x 21 columns]"
      ]
     },
     "execution_count": 140,
     "metadata": {},
     "output_type": "execute_result"
    }
   ],
   "source": [
    "shower_dp = 'data/Showerthoughts.csv'\n",
    "shower_data = pd.read_csv(shower_dp,header=0)\n",
    "shower_data.head()"
   ]
  },
  {
   "cell_type": "code",
   "execution_count": 141,
   "id": "78339e9e-ae94-4856-bbce-111f964aed5d",
   "metadata": {},
   "outputs": [],
   "source": [
    "shower_data = shower_data.drop(['domain','permalink', 'over_18','link_flair_css_class',\n",
    "       'author_flair_css_class', 'selftext','thumbnail', 'name', 'url', 'link_flair_text','distinguished'], axis='columns')\n",
    "\n",
    "shower_data[\"engagement\"] = shower_data[\"ups\"] + shower_data[\"downs\"] + shower_data[\"num_comments\"]"
   ]
  },
  {
   "cell_type": "code",
   "execution_count": 142,
   "id": "1ad95481-def4-4ab0-8266-b94a55078869",
   "metadata": {},
   "outputs": [],
   "source": [
    "tweets = shower_data['title']\n",
    "\n",
    "targets = np.array(shower_data['ups'])\n",
    "eng_targets = np.array(shower_data[\"engagement\"])"
   ]
  },
  {
   "cell_type": "code",
   "execution_count": 143,
   "id": "05457bb0-5509-42ca-af9b-1c9b80970552",
   "metadata": {},
   "outputs": [
    {
     "name": "stdout",
     "output_type": "stream",
     "text": [
      "1000\n"
     ]
    }
   ],
   "source": [
    "from tensorflow import keras\n",
    "from tensorflow.keras.preprocessing.sequence import pad_sequences\n",
    "from tensorflow.keras.preprocessing.text import Tokenizer\n",
    "\n",
    " # config values// Beginning of word embeddings\n",
    "embed_size = 300 # how big is each word vector\n",
    "max_features = 50000 # how many unique words to use (i.e num rows in embedding vector)\n",
    "maxlen = 25 # max number of words in a question to use\n",
    "\n",
    "\n",
    "tokenizer = tf.keras.preprocessing.text.Tokenizer(num_words=max_features)\n",
    "tokenizer.fit_on_texts(tweets)\n",
    "tweets = tokenizer.texts_to_sequences(tweets)\n",
    "\n",
    "\n",
    "tweets = pad_sequences(tweets, maxlen=maxlen)\n",
    "print(len(tweets))\n",
    "text_df = pd.DataFrame(tweets, shower_data[\"id\"] )\n",
    "shower_data = shower_data.merge(text_df, how='left', on='id')\n"
   ]
  },
  {
   "cell_type": "code",
   "execution_count": 144,
   "id": "405f61e0-0e5e-4c1f-b253-3c260787820a",
   "metadata": {},
   "outputs": [
    {
     "name": "stdout",
     "output_type": "stream",
     "text": [
      "      created_utc  score      id  \\\n",
      "0    1.372964e+09   2785  1hncvt   \n",
      "1    1.372606e+09   2488  1hd8in   \n",
      "2    1.361920e+09   2387  19aft0   \n",
      "3    1.370793e+09   2038  1fzgzv   \n",
      "4    1.371846e+09   2007  1gte67   \n",
      "..            ...    ...     ...   \n",
      "995  1.376188e+09     66  1k4gko   \n",
      "996  1.375852e+09     64  1jv5ie   \n",
      "997  1.374782e+09     65  1j1rks   \n",
      "998  1.374438e+09     62  1irmmp   \n",
      "999  1.374139e+09     61  1ijrk9   \n",
      "\n",
      "                                                 title   ups  downs  \\\n",
      "0    If Hillary Clinton wins in 2016, it will be th...  4750   1965   \n",
      "1    I am just a penis. The rest of me is just ther...  4011   1523   \n",
      "2    A TV channel where all the shows are set in th...  2558    171   \n",
      "3    If the oldest person on earth is 116 years old...  2559    521   \n",
      "4    If Kanye and Kim's child's name is North West,...  2687    680   \n",
      "..                                                 ...   ...    ...   \n",
      "995  Deaf people using captions to watch TV have no...    75      9   \n",
      "996  I wonder how much ink I've saved through my li...    76     12   \n",
      "997  Everyone I've ever known has probably cried th...    70      5   \n",
      "998  Wouldn't it be more logical to restart the yea...    75     13   \n",
      "999  When my cat watches me on the toilet does it k...    75     14   \n",
      "\n",
      "     num_comments subreddit_id edited  is_self  ...    15    16    17    18  \\\n",
      "0             265     t5_2szyo  False     True  ...    45    12   108   816   \n",
      "1             162     t5_2szyo  False     True  ...   583    16   335  1359   \n",
      "2              77     t5_2szyo  False     True  ...    92    32     1   382   \n",
      "3              71     t5_2szyo  False     True  ...    40     2   223   103   \n",
      "4              76     t5_2szyo  False     True  ...     6   336  1364    12   \n",
      "..            ...          ...    ...      ...  ...   ...   ...   ...   ...   \n",
      "995             9     t5_2szyo  False     True  ...    14   205    29    14   \n",
      "996             7     t5_2szyo  False     True  ...    57  3413     4  1172   \n",
      "997            14     t5_2szyo  False     True  ...  3418   328     4   376   \n",
      "998            12     t5_2szyo  False     True  ...  1043     9    19    58   \n",
      "999            14     t5_2szyo  False     True  ...    52    21     1   538   \n",
      "\n",
      "       19    20    21    22    23    24  \n",
      "0      15    91   166    23   157    74  \n",
      "1     149   221     4   102    63   817  \n",
      "2      11   254     7     1    59   106  \n",
      "3     254     3   114   584    21   113  \n",
      "4     179   819   585     1  1365  1366  \n",
      "..    ...   ...   ...   ...   ...   ...  \n",
      "995   463   152    28  3410   288  3411  \n",
      "996  3414    36  3415  3416     8  3417  \n",
      "997    33   107   141     3    46   236  \n",
      "998     4  3421     4     2   103   204  \n",
      "999   115    14    68    17    77   209  \n",
      "\n",
      "[1000 rows x 36 columns]\n"
     ]
    }
   ],
   "source": [
    "print(shower_data)"
   ]
  },
  {
   "cell_type": "code",
   "execution_count": 91,
   "id": "77985027-a67c-463b-977b-dd88054c2464",
   "metadata": {
    "tags": []
   },
   "outputs": [],
   "source": [
    "\n",
    "shower_data['embedded_titles'] = pd.Series(tweets.tolist())\n",
    "\n",
    "features = shower_data[['downs', 'num_comments', 'score', 'embedded_titles']]\n",
    "shower_data['embedded_titles'].iloc[25]\n",
    "features_notTitle = shower_data[['downs', 'created_utc']]"
   ]
  },
  {
   "cell_type": "code",
   "execution_count": 79,
   "id": "390b419e-c22a-4a16-add9-b183c89af3f3",
   "metadata": {},
   "outputs": [
    {
     "name": "stdout",
     "output_type": "stream",
     "text": [
      "0.25    109.0\n",
      "0.50    174.5\n",
      "0.75    391.5\n",
      "Name: ups, dtype: float64\n",
      "70 4750 363.546 174.5\n"
     ]
    },
    {
     "data": {
      "image/png": "[encoded data removed]",
      "text/plain": [
       "<Figure size 432x288 with 1 Axes>"
      ]
     },
     "metadata": {
      "needs_background": "light"
     },
     "output_type": "display_data"
    }
   ],
   "source": [
    "import matplotlib.pyplot as plt\n",
    "print(shower_data['ups'].quantile([0.25,0.5,0.75]))\n",
    "\n",
    "\n",
    "large = []\n",
    "for targ in targets:\n",
    "    if targ > 2000:\n",
    "        large.append(targ)\n",
    "plt.hist(targets, bins = 10)\n",
    "print(targets.min(), targets.max(), targets.mean(), statistics.median(targets))\n",
    "plt.show()"
   ]
  },
  {
   "cell_type": "code",
   "execution_count": 53,
   "id": "3c6dbf41-b610-4849-8030-193df766ede5",
   "metadata": {},
   "outputs": [],
   "source": [
    "targets\n",
    "def make_target_buckets(targets):\n",
    "    new_targets = []\n",
    "    for t in targets:\n",
    "        if t > 392:\n",
    "            new_targets.append(4)\n",
    "        elif t > 175:\n",
    "            new_targets.append(3)\n",
    "        elif t > 109:\n",
    "            new_targets.append(2) \n",
    "        else:\n",
    "            new_targets.append(1)\n",
    "    return new_targets\n",
    "stat_targ_buckets = make_target_buckets(targets)\n",
    "   "
   ]
  },
  {
   "cell_type": "code",
   "execution_count": 54,
   "id": "3c875154-6fcb-42ed-9e11-cdb70bf58fe8",
   "metadata": {
    "tags": []
   },
   "outputs": [],
   "source": [
    "targets\n",
    "def make_target_buckets(targets):\n",
    "    new_targets = []\n",
    "    for t in targets:\n",
    "        if t > 400:\n",
    "            new_targets.append(4)\n",
    "        elif t > 150:\n",
    "            new_targets.append(3)\n",
    "        elif t > 100:\n",
    "            new_targets.append(2) \n",
    "        else:\n",
    "            new_targets.append(1)\n",
    "    return new_targets\n",
    "targ_buckets = make_target_buckets(targets)\n",
    "        "
   ]
  },
  {
   "cell_type": "code",
   "execution_count": 55,
   "id": "f3d62006-4b48-4393-8986-bec186e83df2",
   "metadata": {
    "tags": []
   },
   "outputs": [],
   "source": [
    "# from sklearn.preprocessing import MinMaxScaler\n",
    "# scaler = MinMaxScaler()\n",
    "# scaler.fit(features)\n",
    "# features = scaler.transform(features)\n"
   ]
  },
  {
   "cell_type": "code",
   "execution_count": 56,
   "id": "c05e0b96-215c-401f-9083-561c98e0d2d4",
   "metadata": {},
   "outputs": [],
   "source": [
    "X_train, X_test, y_train, y_test = train_test_split(features_notTitle, targ_buckets, test_size=.2, train_size=.8, random_state=None, shuffle=True, stratify=None)\n",
    "statX_train, statX_test, staty_train, staty_test = train_test_split(features_notTitle, stat_targ_buckets, test_size=.2, train_size=.8, random_state=None, shuffle=True, stratify=None)"
   ]
  },
  {
   "cell_type": "code",
   "execution_count": 146,
   "id": "21f25277-e114-4bb3-9531-cb02f5db3fa3",
   "metadata": {},
   "outputs": [
    {
     "name": "stdout",
     "output_type": "stream",
     "text": [
      "0.27\n"
     ]
    },
    {
     "data": {
      "text/plain": [
       "<AxesSubplot:>"
      ]
     },
     "execution_count": 146,
     "metadata": {},
     "output_type": "execute_result"
    },
    {
     "data": {
      "image/png": "[encoded data removed]",
      "text/plain": [
       "<Figure size 432x288 with 2 Axes>"
      ]
     },
     "metadata": {
      "needs_background": "light"
     },
     "output_type": "display_data"
    }
   ],
   "source": [
    "from sklearn.linear_model import LogisticRegression\n",
    "logReg = LogisticRegression(random_state=0).fit(X_train, y_train)\n",
    "preds = logReg.predict(X_test)\n",
    "logReg.score(X_test, y_test)\n",
    "\n",
    "print(logReg.score(X_test, y_test))\n",
    "rfcCM = confusion_matrix(preds, y_test)\n",
    "sns.heatmap(rfcCM, annot=True)"
   ]
  },
  {
   "cell_type": "code",
   "execution_count": 60,
   "id": "ba42f9f2-fbb3-4890-b3cb-24ed162fefb7",
   "metadata": {},
   "outputs": [
    {
     "name": "stdout",
     "output_type": "stream",
     "text": [
      "0.23\n"
     ]
    },
    {
     "data": {
      "text/plain": [
       "<AxesSubplot:>"
      ]
     },
     "execution_count": 60,
     "metadata": {},
     "output_type": "execute_result"
    },
    {
     "data": {
      "image/png": "[encoded data removed]",
      "text/plain": [
       "<Figure size 432x288 with 2 Axes>"
      ]
     },
     "metadata": {
      "needs_background": "light"
     },
     "output_type": "display_data"
    }
   ],
   "source": [
    "from sklearn.linear_model import LogisticRegression\n",
    "logReg = LogisticRegression(random_state=0).fit(statX_train, staty_train)\n",
    "preds = logReg.predict(statX_test)\n",
    "\n",
    "print(logReg.score(statX_test, staty_test))\n",
    "rfcCM = confusion_matrix(preds, staty_test)\n",
    "sns.heatmap(rfcCM, annot=True)"
   ]
  },
  {
   "cell_type": "code",
   "execution_count": 15,
   "id": "cfaed23d-2959-4ea4-a7b9-d649a06848af",
   "metadata": {},
   "outputs": [],
   "source": [
    "from sklearn.preprocessing import PolynomialFeatures\n",
    "poly = PolynomialFeatures(2)\n",
    "features_poly = poly.fit_transform(features_notTitle)"
   ]
  },
  {
   "cell_type": "code",
   "execution_count": 16,
   "id": "2fd8c106-8a5f-47da-b8fa-7efd95f048d8",
   "metadata": {},
   "outputs": [
    {
     "name": "stdout",
     "output_type": "stream",
     "text": [
      "0.625\n"
     ]
    },
    {
     "data": {
      "text/plain": [
       "<AxesSubplot:>"
      ]
     },
     "execution_count": 16,
     "metadata": {},
     "output_type": "execute_result"
    },
    {
     "data": {
      "image/png": "[encoded data removed]",
      "text/plain": [
       "<Figure size 432x288 with 2 Axes>"
      ]
     },
     "metadata": {
      "needs_background": "light"
     },
     "output_type": "display_data"
    }
   ],
   "source": [
    "#RFC\n",
    "from sklearn.metrics import classification_report\n",
    "from sklearn.metrics import confusion_matrix\n",
    "from sklearn.ensemble import RandomForestClassifier\n",
    "from sklearn.metrics import accuracy_score\n",
    "\n",
    "import seaborn as sns\n",
    "ax= plt.subplot()\n",
    "\n",
    "clf = RandomForestClassifier(max_depth=None, random_state=0)\n",
    "clf.fit(X_train, y_train)\n",
    "preds2 = clf.predict(X_test)\n",
    "print(accuracy_score(y_test, preds2))\n",
    "\n",
    "rfcCM = confusion_matrix(y_test, preds2)\n",
    "sns.heatmap(rfcCM, annot=True)"
   ]
  },
  {
   "cell_type": "code",
   "execution_count": 68,
   "id": "2e4a7dd9-1279-4abc-969d-dfa4dc7db070",
   "metadata": {},
   "outputs": [
    {
     "name": "stdout",
     "output_type": "stream",
     "text": [
      "0.67\n"
     ]
    },
    {
     "data": {
      "text/plain": [
       "<AxesSubplot:>"
      ]
     },
     "execution_count": 68,
     "metadata": {},
     "output_type": "execute_result"
    },
    {
     "data": {
      "image/png": "[encoded data removed]",
      "text/plain": [
       "<Figure size 432x288 with 2 Axes>"
      ]
     },
     "metadata": {
      "needs_background": "light"
     },
     "output_type": "display_data"
    }
   ],
   "source": [
    "clf = RandomForestClassifier(max_depth=None, random_state=0)\n",
    "clf.fit(statX_train, staty_train)\n",
    "preds2 = clf.predict(statX_test)\n",
    "print(accuracy_score(staty_test, preds2))\n",
    "\n",
    "rfcCM = confusion_matrix(staty_test, preds2)\n",
    "sns.heatmap(rfcCM, annot=True)"
   ]
  },
  {
   "cell_type": "code",
   "execution_count": 25,
   "id": "2d9e3a8c-df02-4388-9a62-8c7a14da98ba",
   "metadata": {},
   "outputs": [
    {
     "name": "stdout",
     "output_type": "stream",
     "text": [
      "0.395\n"
     ]
    },
    {
     "data": {
      "text/plain": [
       "<AxesSubplot:>"
      ]
     },
     "execution_count": 25,
     "metadata": {},
     "output_type": "execute_result"
    },
    {
     "data": {
      "image/png": "[encoded data removed]",
      "text/plain": [
       "<Figure size 432x288 with 2 Axes>"
      ]
     },
     "metadata": {
      "needs_background": "light"
     },
     "output_type": "display_data"
    }
   ],
   "source": [
    "from sklearn.svm import SVC\n",
    "clf= SVC(gamma='auto', C= 20)\n",
    "clf.fit(X_train, y_train)\n",
    "preds2 = clf.predict(X_test)\n",
    "print(accuracy_score(y_test, preds2))\n",
    "rfcCM = confusion_matrix(y_test, preds2)\n",
    "sns.heatmap(rfcCM, annot=True)"
   ]
  },
  {
   "cell_type": "code",
   "execution_count": 67,
   "id": "0acf57b9-4cb4-4b97-89c0-bae5286ce078",
   "metadata": {},
   "outputs": [
    {
     "name": "stdout",
     "output_type": "stream",
     "text": [
      "0.23\n"
     ]
    },
    {
     "data": {
      "text/plain": [
       "<AxesSubplot:>"
      ]
     },
     "execution_count": 67,
     "metadata": {},
     "output_type": "execute_result"
    },
    {
     "data": {
      "image/png": "[encoded data removed]",
      "text/plain": [
       "<Figure size 432x288 with 2 Axes>"
      ]
     },
     "metadata": {
      "needs_background": "light"
     },
     "output_type": "display_data"
    }
   ],
   "source": [
    "from sklearn.svm import SVC\n",
    "clf= SVC(gamma=.12, C= .00001)\n",
    "clf.fit(statX_train, staty_train)\n",
    "\n",
    "preds2 = clf.predict(statX_test)\n",
    "print(accuracy_score(staty_test, preds2))\n",
    "rfcCM = confusion_matrix(staty_test, preds2)\n",
    "sns.heatmap(rfcCM, annot=True)"
   ]
  },
  {
   "cell_type": "code",
   "execution_count": null,
   "id": "35994552-7869-4a2c-a955-a0e304ab61e0",
   "metadata": {},
   "outputs": [],
   "source": []
  }
 ],
 "metadata": {
  "kernelspec": {
   "display_name": "Python 3.8",
   "language": "python",
   "name": "python3"
  },
  "language_info": {
   "codemirror_mode": {
    "name": "ipython",
    "version": 3
   },
   "file_extension": ".py",
   "mimetype": "text/x-python",
   "name": "python",
   "nbconvert_exporter": "python",
   "pygments_lexer": "ipython3",
   "version": "3.8.6"
  }
 },
 "nbformat": 4,
 "nbformat_minor": 5
}
