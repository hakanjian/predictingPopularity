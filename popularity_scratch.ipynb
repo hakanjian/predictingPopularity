{
 "cells": [
  {
   "cell_type": "code",
   "execution_count": 1,
   "id": "d169e3bb-0334-4f44-a03c-6108f41a0414",
   "metadata": {},
   "outputs": [],
   "source": [
    "import pandas as pd\n",
    "import numpy as np\n"
   ]
  },
  {
   "cell_type": "code",
   "execution_count": null,
   "id": "b984851b-d330-4f25-8f51-88a37cd434a6",
   "metadata": {},
   "outputs": [],
   "source": [
    "dp = 'data/Tinder.csv'\n",
    "df = pd.read_csv(dp,header=0)\n",
    "df.head()"
   ]
  },
  {
   "cell_type": "markdown",
   "id": "58ec5737-002c-4c17-8c67-d28cd8fc9a45",
   "metadata": {},
   "source": [
    "-Need to do a sort of sentiment analysis like with word vectorization\n",
    "-Load in other data things\n"
   ]
  },
  {
   "cell_type": "code",
   "execution_count": null,
   "id": "6266389e-183e-438c-9adb-cca019fc01bb",
   "metadata": {},
   "outputs": [],
   "source": [
    "tinder_data = df[['title', 'score', 'comms_num', 'body', 'timestamp']]\n",
    "tinder_data.iloc[5]"
   ]
  },
  {
   "cell_type": "markdown",
   "id": "bce9f6a2-21de-47f7-b6b1-a08ccafb17bf",
   "metadata": {},
   "source": [
    "https://www.kaggle.com/code/mehmetlaudatekman/tutorial-word-embeddings-with-svm"
   ]
  },
  {
   "cell_type": "code",
   "execution_count": null,
   "id": "a0ee065d-659b-48a1-ad96-bb36a6d655fa",
   "metadata": {},
   "outputs": [],
   "source": []
  }
 ],
 "metadata": {
  "kernelspec": {
   "display_name": "Python 3.8",
   "language": "python",
   "name": "python3"
  },
  "language_info": {
   "codemirror_mode": {
    "name": "ipython",
    "version": 3
   },
   "file_extension": ".py",
   "mimetype": "text/x-python",
   "name": "python",
   "nbconvert_exporter": "python",
   "pygments_lexer": "ipython3",
   "version": "3.8.6"
  }
 },
 "nbformat": 4,
 "nbformat_minor": 5
}
